{
 "cells": [
  {
   "cell_type": "code",
   "execution_count": 6,
   "metadata": {},
   "outputs": [
    {
     "name": "stdout",
     "output_type": "stream",
     "text": [
      "O numero informado foi 15\n"
     ]
    }
   ],
   "source": [
    "#faça um programa que peça um numero e mostre a mensagem 'o numero informado foi'\n",
    "numero = int(input('Digite um número: '))\n",
    "print('O numero informado foi', numero)"
   ]
  },
  {
   "cell_type": "code",
   "execution_count": 10,
   "metadata": {},
   "outputs": [
    {
     "name": "stdout",
     "output_type": "stream",
     "text": [
      "A soma de 36 com o 40 é 76\n"
     ]
    }
   ],
   "source": [
    "#faça um programa que peça dois numero e imprima a soma\n",
    "numero1 = int(input('Digite o primeiro numero: '))\n",
    "numero2 = int(input('Digite o segundo numero: '))\n",
    "\n",
    "soma = numero1 + numero2\n",
    "\n",
    "print(f'A soma de {numero1} com o {numero2} é {soma}')"
   ]
  },
  {
   "cell_type": "code",
   "execution_count": 13,
   "metadata": {},
   "outputs": [
    {
     "name": "stdout",
     "output_type": "stream",
     "text": [
      "Sua média é 6.67\n"
     ]
    }
   ],
   "source": [
    "#faça um programa que peça 3 notas e mostre uma média\n",
    "nota1 = float(input('Digite a nota 1: '))\n",
    "nota2 = float(input('Digite a nota 2: '))\n",
    "nota3 = float(input('Digite a nota 3: '))\n",
    "\n",
    "soma = nota1 + nota2 + nota3\n",
    "media = soma/3\n",
    "\n",
    "print(f'Sua média é {media:.2f}')"
   ]
  },
  {
   "cell_type": "code",
   "execution_count": 17,
   "metadata": {},
   "outputs": [
    {
     "name": "stdout",
     "output_type": "stream",
     "text": [
      "Seu salário é R$ 400.00\n"
     ]
    }
   ],
   "source": [
    "#faça um programa que pergunte quanto você ganha por horas e o numero de horas trabalhadas no mês e exiba o salario total\n",
    "ganho_por_horas = float(input('Quanto você ganha por horas? R= '))\n",
    "horas_trabalhadas = int(input('Qual é o número de horas trabalhadas nesse mês? R= '))\n",
    "\n",
    "salario = ganho_por_horas * horas_trabalhadas\n",
    "\n",
    "print(f'Seu salário nesse mês é R$ {salario:.2f}')"
   ]
  },
  {
   "cell_type": "code",
   "execution_count": 20,
   "metadata": {},
   "outputs": [
    {
     "name": "stdout",
     "output_type": "stream",
     "text": [
      "O peso do peixe excedeu 2.50 kg e a multa foi de R$ 10.00\n"
     ]
    }
   ],
   "source": [
    "#Peso limite da multa\n",
    "PESO_LIMITE = 50\n",
    "\n",
    "#inicializando as variaveis excesso\n",
    "excesso = 0\n",
    "multa = 0\n",
    "\n",
    "#Pergunta ao usuário o peso do peixe\n",
    "peso = float(input('Digite o peso do peixe: '))\n",
    "\n",
    "#Se o peso do peixe ultrapassou o limite aplica a multa\n",
    "if peso > PESO_LIMITE:\n",
    "    excesso = peso - PESO_LIMITE\n",
    "    multa = excesso * 4\n",
    "    print(f'O peso do peixe excedeu {excesso:.2f} kg e a multa foi de R$ {multa:.2f}')\n",
    "else:\n",
    "    #se não, não aplica a multa\n",
    "    print('A multa não foi aplicada')"
   ]
  }
 ],
 "metadata": {
  "kernelspec": {
   "display_name": "Python 3",
   "language": "python",
   "name": "python3"
  },
  "language_info": {
   "codemirror_mode": {
    "name": "ipython",
    "version": 3
   },
   "file_extension": ".py",
   "mimetype": "text/x-python",
   "name": "python",
   "nbconvert_exporter": "python",
   "pygments_lexer": "ipython3",
   "version": "3.9.13"
  }
 },
 "nbformat": 4,
 "nbformat_minor": 2
}
